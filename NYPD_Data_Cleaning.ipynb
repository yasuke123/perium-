{
 "cells": [
  {
   "cell_type": "markdown",
   "id": "82daba62",
   "metadata": {},
   "source": [
    "# DAAN 822 Data Collection & Cleaning (2025)\n",
    "## Group 5: Afolabi Isiaka, Matthew Kucas\n",
    "## The New York City Police Department Stop-and-Frisk Program: Recent Trends"
   ]
  },
  {
   "cell_type": "markdown",
   "id": "34dd5f7e",
   "metadata": {},
   "source": [
    "### Note: This code cleans datasets, working through issues identified in Lesson 9"
   ]
  },
  {
   "cell_type": "markdown",
   "id": "f7454713",
   "metadata": {},
   "source": [
    "Import libraries"
   ]
  },
  {
   "cell_type": "code",
   "execution_count": 1,
   "id": "d2f7d3e8",
   "metadata": {},
   "outputs": [],
   "source": [
    "import pandas as pd \n",
    "import numpy as np \n",
    "#import matplotlib for plotting\n",
    "import matplotlib.pyplot as plt"
   ]
  },
  {
   "cell_type": "markdown",
   "id": "05d80091",
   "metadata": {},
   "source": [
    "# SECTION 1: Stop and Frisk data"
   ]
  },
  {
   "cell_type": "markdown",
   "id": "b56bea71",
   "metadata": {},
   "source": [
    "Import data into pandas dataframe"
   ]
  },
  {
   "cell_type": "code",
   "execution_count": 2,
   "id": "db1fc13d",
   "metadata": {},
   "outputs": [],
   "source": [
    "#Load Stop and Frisk data file\n",
    "saf_data = pd.read_csv('C:\\\\Users\\\\mekna\\\\OneDrive\\\\Documents\\\\PSU\\\\DAAN_822\\\\Project\\\\Data_Warehouse\\\\NYPD_Stop_and_Frisk.csv', low_memory=False)"
   ]
  },
  {
   "cell_type": "markdown",
   "id": "c4d28609",
   "metadata": {},
   "source": [
    "Create dataframe restricted to data that will be necessary for analysis (based on previous analyses of data)"
   ]
  },
  {
   "cell_type": "code",
   "execution_count": 3,
   "id": "1536aa98",
   "metadata": {},
   "outputs": [],
   "source": [
    "# Identify column types\n",
    "numerical_cols = ['year', 'pct', 'datestop', 'timestop', 'perobs', 'ht_feet', 'ht_inch', 'city', 'weight', 'xcoord', 'ycoord', 'age', 'detailcm', 'detailCM']\n",
    "binary_cols = ['arstmade', 'sumissue', 'frisked', 'searched', 'pistol', 'riflshot', 'asltweap', 'knifcuti', 'machgun', 'othrweap']\n",
    "categorical_cols = ['crimsusp', 'sex', 'race', 'inout', 'trhsloc']  # Start with key categoricals"
   ]
  },
  {
   "cell_type": "code",
   "execution_count": 4,
   "id": "d18ea663",
   "metadata": {},
   "outputs": [],
   "source": [
    "# Create analysis dataset for numerical and binary columns\n",
    "saf_analysis_data = saf_data[numerical_cols + binary_cols + categorical_cols].copy()"
   ]
  },
  {
   "cell_type": "code",
   "execution_count": 5,
   "id": "ca721a7b",
   "metadata": {},
   "outputs": [
    {
     "name": "stdout",
     "output_type": "stream",
     "text": [
      "13\n"
     ]
    }
   ],
   "source": [
    "#Verify that there are 4 UNK values in crimsusp olumn\n",
    "unk_crim = saf_analysis_data['crimsusp'] == 'UNK'\n",
    "unk_crim_true = unk_crim.sum()\n",
    "print(unk_crim_true)"
   ]
  },
  {
   "cell_type": "markdown",
   "id": "c851428f",
   "metadata": {},
   "source": [
    "### Issue 1: There are (39) missing values in the age field of the Stop-and-Frisk dataset\n",
    "\n",
    "•\tError type: Coverage (missing values)\n",
    "\n",
    "•\tRemediation: Replace values with a designated placeholder value (integer field – replace with NULL)"
   ]
  },
  {
   "cell_type": "code",
   "execution_count": 6,
   "id": "3d8ac756",
   "metadata": {},
   "outputs": [
    {
     "name": "stdout",
     "output_type": "stream",
     "text": [
      "0\n"
     ]
    }
   ],
   "source": [
    "#Replace missing age values with NULL\n",
    "saf_analysis_data['age'] = saf_analysis_data['age'].replace(' ', 'NULL')\n",
    "\n",
    "#Verify that there are no missing values left in age column\n",
    "missing_age = saf_analysis_data['age'] == ' '\n",
    "missing_age_true = missing_age.sum()\n",
    "print(missing_age_true)"
   ]
  },
  {
   "cell_type": "markdown",
   "id": "35ac9223",
   "metadata": {},
   "source": [
    "### Issue 2: There are (54) incorrect values of ** in the age field of the Stop-and-Frisk dataset\n",
    "\n",
    "•\tError type: Semantic (integrity constraint violation – values in the age column must be numerical integers)\n",
    "    \n",
    "•\tRemediation: Replace values with a designated placeholder value (integer field – replace with NULL)"
   ]
  },
  {
   "cell_type": "code",
   "execution_count": 7,
   "id": "a5c34dd2",
   "metadata": {},
   "outputs": [
    {
     "name": "stdout",
     "output_type": "stream",
     "text": [
      "0\n"
     ]
    }
   ],
   "source": [
    "#Replace missing age values with NULL\n",
    "saf_analysis_data['age'] = saf_analysis_data['age'].replace('**', 'NULL')\n",
    "\n",
    "#Verify that there are no missing values left in age column\n",
    "star_age = saf_analysis_data['age'] == '**'\n",
    "star_age_true = star_age.sum()\n",
    "print(star_age_true)"
   ]
  },
  {
   "cell_type": "markdown",
   "id": "89fc0b72",
   "metadata": {},
   "source": [
    "### Issue 3: There are (2824) unrealistic values in the age field of the Stop-and-Frisk dataset\n",
    "    \n",
    "•\tError type: Semantic (integrity constraint violation – values in the age column must be <= 100 and > 6)\n",
    "    \n",
    "•\tRemediation: Replace values with a designated placeholder value (integer field – replace with NaN)"
   ]
  },
  {
   "cell_type": "code",
   "execution_count": 8,
   "id": "e3557153",
   "metadata": {},
   "outputs": [
    {
     "data": {
      "text/plain": [
       "1407"
      ]
     },
     "execution_count": 8,
     "metadata": {},
     "output_type": "execute_result"
    }
   ],
   "source": [
    "#Convert age column from object to integer - note: this would also take care of issues 1 and 2 as a standalone step\n",
    "saf_analysis_data['age'] = pd.to_numeric(saf_analysis_data['age'], errors='coerce').astype('Int64')\n",
    "\n",
    "#Find age values that exceed 100\n",
    "too_old = saf_analysis_data['age'] > 100\n",
    "too_old_true = too_old.sum()\n",
    "#Display number of too old age values\n",
    "too_old_true"
   ]
  },
  {
   "cell_type": "code",
   "execution_count": 9,
   "id": "44023fea",
   "metadata": {},
   "outputs": [],
   "source": [
    "#Replace ages exceeding 100 with NaN\n",
    "saf_analysis_data['age'][saf_analysis_data['age'] > 100] = np.nan"
   ]
  },
  {
   "cell_type": "code",
   "execution_count": 10,
   "id": "9e39effa",
   "metadata": {},
   "outputs": [
    {
     "data": {
      "text/plain": [
       "0"
      ]
     },
     "execution_count": 10,
     "metadata": {},
     "output_type": "execute_result"
    }
   ],
   "source": [
    "#Find age values that exceed 100\n",
    "too_old = saf_analysis_data['age'] > 100\n",
    "too_old_true = too_old.sum()\n",
    "#Display number of too old age values\n",
    "too_old_true"
   ]
  },
  {
   "cell_type": "code",
   "execution_count": 11,
   "id": "ca50ffc8",
   "metadata": {},
   "outputs": [
    {
     "data": {
      "text/plain": [
       "1417"
      ]
     },
     "execution_count": 11,
     "metadata": {},
     "output_type": "execute_result"
    }
   ],
   "source": [
    "#Find age values 6 and under \n",
    "(saf_analysis_data['age'] <= 6).sum()"
   ]
  },
  {
   "cell_type": "code",
   "execution_count": 12,
   "id": "6866ac58",
   "metadata": {},
   "outputs": [],
   "source": [
    "#Replace ages 6 and under with NaN\n",
    "saf_analysis_data['age'][saf_analysis_data['age'] <= 6] = np.nan"
   ]
  },
  {
   "cell_type": "code",
   "execution_count": 13,
   "id": "4b38c0df",
   "metadata": {},
   "outputs": [
    {
     "data": {
      "text/plain": [
       "0"
      ]
     },
     "execution_count": 13,
     "metadata": {},
     "output_type": "execute_result"
    }
   ],
   "source": [
    "too_young = saf_analysis_data['age'] <= 6\n",
    "too_young_true = too_old.sum()\n",
    "#Display number of too old age values\n",
    "too_young_true"
   ]
  },
  {
   "cell_type": "code",
   "execution_count": 14,
   "id": "97f817ef",
   "metadata": {},
   "outputs": [
    {
     "name": "stdout",
     "output_type": "stream",
     "text": [
      "20 18 19 37 21 62 31 34 26 23 54 27 17 58 24 38 68 29 16 35 15 28 13 45 22 30 43 46 36 42 41 39 14 55 25 51 48 47 52 53 32 40 60 57 50 61 63 56 99 33 49 59 12 44 <NA> 74 71 67 66 65 64 77 10 73 80 78 70 72 11 82 75 76 96 69 81 86 84 83 9 8 79 91 100 7 89 95 85 97 88 87 98 93 94 90\n"
     ]
    }
   ],
   "source": [
    "#Check age column for unique values - verify all values are integers =< 100 OR NaN\n",
    "print(*saf_analysis_data['age'].unique())"
   ]
  },
  {
   "cell_type": "code",
   "execution_count": 15,
   "id": "fe60ead1",
   "metadata": {},
   "outputs": [
    {
     "data": {
      "image/png": "[encoded data removed]",
      "text/plain": [
       "<Figure size 640x480 with 1 Axes>"
      ]
     },
     "metadata": {},
     "output_type": "display_data"
    }
   ],
   "source": [
    "#Take another look at the distribution of age values\n",
    "age_no_nan = saf_analysis_data['age'].dropna()\n",
    "plt.boxplot(age_no_nan);"
   ]
  },
  {
   "cell_type": "code",
   "execution_count": 16,
   "id": "afec7353",
   "metadata": {},
   "outputs": [
    {
     "data": {
      "text/plain": [
       "2.9798973671055875"
      ]
     },
     "execution_count": 16,
     "metadata": {},
     "output_type": "execute_result"
    }
   ],
   "source": [
    "#Check percentage proportion over age 55 - ~3 percent - reasonable number, so consider valid\n",
    "older_proportion = (saf_analysis_data['age'] > 55).sum() / (saf_analysis_data['age'] > 0).sum()\n",
    "older_proportion * 100"
   ]
  },
  {
   "cell_type": "code",
   "execution_count": 17,
   "id": "b887ad69",
   "metadata": {},
   "outputs": [
    {
     "data": {
      "text/plain": [
       "790195"
      ]
     },
     "execution_count": 17,
     "metadata": {},
     "output_type": "execute_result"
    }
   ],
   "source": [
    "(saf_analysis_data['age'] > 0).sum()"
   ]
  },
  {
   "cell_type": "markdown",
   "id": "3aac3e6e",
   "metadata": {},
   "source": [
    "### Issue 4: There are (4) missing (null) values in the crimsusp (suspected crime) field of the Stop-and-Frisk dataset\n",
    "    \n",
    "•\tError type: Coverage (missing values)\n",
    "    \n",
    "•\tRemediation: Replace values with a designated placeholder value (string field – replace with “UNK”)"
   ]
  },
  {
   "cell_type": "code",
   "execution_count": 18,
   "id": "b7fc8fa7",
   "metadata": {},
   "outputs": [
    {
     "name": "stdout",
     "output_type": "stream",
     "text": [
      "13\n"
     ]
    }
   ],
   "source": [
    "#Check initial number of UNK values in crimsusp column\n",
    "unk_crim = saf_analysis_data['crimsusp'] == 'UNK'\n",
    "unk_crim_true = unk_crim.sum()\n",
    "print(unk_crim_true)"
   ]
  },
  {
   "cell_type": "code",
   "execution_count": 19,
   "id": "9e9e6926",
   "metadata": {},
   "outputs": [
    {
     "name": "stdout",
     "output_type": "stream",
     "text": [
      "17\n"
     ]
    }
   ],
   "source": [
    "#Replace missing crimesusp values with UNK\n",
    "saf_analysis_data['crimsusp'] = saf_analysis_data['crimsusp'].fillna('UNK')\n",
    "\n",
    "#Verify that there are 4 more UNK values in crimsusp olumn\n",
    "unk_crim = saf_analysis_data['crimsusp'] == 'UNK'\n",
    "unk_crim_true = unk_crim.sum()\n",
    "print(unk_crim_true)"
   ]
  },
  {
   "cell_type": "code",
   "execution_count": 20,
   "id": "bb344e92",
   "metadata": {},
   "outputs": [
    {
     "data": {
      "text/plain": [
       "0"
      ]
     },
     "execution_count": 20,
     "metadata": {},
     "output_type": "execute_result"
    }
   ],
   "source": [
    "#And verify that there are no more NULL values in crimsusp olumn\n",
    "saf_analysis_data['crimsusp'].isnull().sum()"
   ]
  },
  {
   "cell_type": "markdown",
   "id": "8749ee51",
   "metadata": {},
   "source": [
    "### Issue 5: There are missing values and values of “1” in the pistol (was a pistol found on the suspect), riflshot (was a rifle found on the suspect), asltweap (was an assault weapon found on the suspect), knifcuti (was a knife found on the suspect), machgun (was a machine gun found on the suspect), and othrweap (was another type of weapon found on the suspect) fields of the Stop-and-Frisk dataset (approx. 11000 records)\n",
    "    \n",
    "•\tError type: Coverage (missing values) and semantic (integrity constraint violation – values in these columns must be Y or N)\n",
    "    \n",
    "•\tRemediation: Manual inspection of the dataset revealed that multiple records from the year 2014 were marked with blanks in place of N and with 1 in place of Y; replace blank with N and 1 with Y in each of these columns"
   ]
  },
  {
   "cell_type": "code",
   "execution_count": 21,
   "id": "04bfde31",
   "metadata": {},
   "outputs": [],
   "source": [
    "#Replace missing pistol, riflshot, asltweap, knifcuti, machgun, and othrweap values with N\n",
    "saf_analysis_data['pistol'] = saf_analysis_data['pistol'].replace(' ', 'N')\n",
    "saf_analysis_data['riflshot'] = saf_analysis_data['riflshot'].replace(' ', 'N')\n",
    "saf_analysis_data['asltweap'] = saf_analysis_data['asltweap'].replace(' ', 'N')\n",
    "saf_analysis_data['knifcuti'] = saf_analysis_data['knifcuti'].replace(' ', 'N')\n",
    "saf_analysis_data['machgun'] = saf_analysis_data['machgun'].replace(' ', 'N')\n",
    "saf_analysis_data['othrweap'] = saf_analysis_data['othrweap'].replace(' ', 'N')\n",
    "\n",
    "#Replace pistol, riflshot, asltweap, knifcuti, machgun, and othrweap values of 1 with Y\n",
    "saf_analysis_data['pistol'] = saf_analysis_data['pistol'].replace('1', 'Y')\n",
    "saf_analysis_data['riflshot'] = saf_analysis_data['riflshot'].replace('1', 'Y')\n",
    "saf_analysis_data['asltweap'] = saf_analysis_data['asltweap'].replace('1', 'Y')\n",
    "saf_analysis_data['knifcuti'] = saf_analysis_data['knifcuti'].replace('1', 'Y')\n",
    "saf_analysis_data['machgun'] = saf_analysis_data['machgun'].replace('1', 'Y')\n",
    "saf_analysis_data['othrweap'] = saf_analysis_data['othrweap'].replace('1', 'Y')"
   ]
  },
  {
   "cell_type": "markdown",
   "id": "a527a3b5",
   "metadata": {},
   "source": [
    "### Issue 6: There are (23340) missing values in the xcoord and ycoord fields of the Stop-and-Frisk dataset\n",
    "\n",
    "•\tError type: Coverage (missing values)\n",
    "    \n",
    "•\tRemediation: Replace values with a designated placeholder value (integer field – replace with NaN)"
   ]
  },
  {
   "cell_type": "code",
   "execution_count": 22,
   "id": "faa74878",
   "metadata": {},
   "outputs": [],
   "source": [
    "#Replace missing xcoord and ycoord values with NULL\n",
    "saf_analysis_data['xcoord'] = saf_analysis_data['xcoord'].replace(' ', 'NULL')\n",
    "saf_analysis_data['ycoord'] = saf_analysis_data['ycoord'].replace(' ', 'NULL')"
   ]
  },
  {
   "cell_type": "code",
   "execution_count": 23,
   "id": "31488c52",
   "metadata": {},
   "outputs": [],
   "source": [
    "#Convert xcoord and ycoord columns from object to integer\n",
    "saf_analysis_data['xcoord'] = pd.to_numeric(saf_analysis_data['xcoord'], errors='coerce').astype('Int64')\n",
    "saf_analysis_data['ycoord'] = pd.to_numeric(saf_analysis_data['ycoord'], errors='coerce').astype('Int64')"
   ]
  },
  {
   "cell_type": "code",
   "execution_count": 24,
   "id": "908092b8",
   "metadata": {},
   "outputs": [
    {
     "name": "stdout",
     "output_type": "stream",
     "text": [
      "0\n"
     ]
    }
   ],
   "source": [
    "#Verify no more blank values in xcoord column\n",
    "missing_xcoord = saf_analysis_data['xcoord'] == ' '\n",
    "missing_xcoord_true = missing_xcoord.sum()\n",
    "print(missing_xcoord_true)"
   ]
  },
  {
   "cell_type": "code",
   "execution_count": 25,
   "id": "6b06ecc1",
   "metadata": {},
   "outputs": [
    {
     "name": "stdout",
     "output_type": "stream",
     "text": [
      "0\n"
     ]
    }
   ],
   "source": [
    "#Verify no more blank values in ycoord column\n",
    "missing_ycoord = saf_analysis_data['ycoord'] == ' '\n",
    "missing_ycoord_true = missing_ycoord.sum()\n",
    "print(missing_ycoord_true)"
   ]
  },
  {
   "cell_type": "markdown",
   "id": "334a3038",
   "metadata": {},
   "source": [
    "### Issue 7: There are (5) missing values in the city field of the Stop-and-Frisk dataset\n",
    "    \n",
    "•\tError type: Coverage (missing values)\n",
    "    \n",
    "•\tRemediation: Replace values with a designated placeholder value (string field – replace with “UNK”)"
   ]
  },
  {
   "cell_type": "code",
   "execution_count": 26,
   "id": "499d1d5f",
   "metadata": {},
   "outputs": [
    {
     "name": "stdout",
     "output_type": "stream",
     "text": [
      "0\n"
     ]
    }
   ],
   "source": [
    "#Check initial number of UNK values in city column\n",
    "unk_city = saf_analysis_data['city'] == 'UNK'\n",
    "unk_city_true = unk_city.sum()\n",
    "print(unk_city_true)"
   ]
  },
  {
   "cell_type": "code",
   "execution_count": 27,
   "id": "08984405",
   "metadata": {},
   "outputs": [
    {
     "name": "stdout",
     "output_type": "stream",
     "text": [
      "5\n"
     ]
    }
   ],
   "source": [
    "#Replace missing city values with UNK\n",
    "saf_analysis_data['city'] = saf_analysis_data['city'].replace(' ', 'UNK')\n",
    "\n",
    "#Verify that there are 5 more UNK values in city olumn\n",
    "unk_city = saf_analysis_data['city'] == 'UNK'\n",
    "unk_city_true = unk_city.sum()\n",
    "print(unk_city_true)"
   ]
  },
  {
   "cell_type": "code",
   "execution_count": 28,
   "id": "6d0f0ca4",
   "metadata": {},
   "outputs": [
    {
     "name": "stdout",
     "output_type": "stream",
     "text": [
      "0\n"
     ]
    }
   ],
   "source": [
    "#Verify no more blank values in city column\n",
    "missing_city = saf_analysis_data['city'] == ' '\n",
    "missing_city_true = missing_city.sum()\n",
    "print(missing_city_true)"
   ]
  },
  {
   "cell_type": "markdown",
   "id": "0d0e6e67",
   "metadata": {},
   "source": [
    "### Issue 8: There are two different field designators for the crime detail code fields in the Stop-and-Frisk dataset – detailcm and detailCM \n",
    "    \n",
    "•\tError type: Field labeling\n",
    "    \n",
    "•\tRemediation: Combine values from the two fields into a single field"
   ]
  },
  {
   "cell_type": "code",
   "execution_count": 29,
   "id": "f8624d0d",
   "metadata": {},
   "outputs": [
    {
     "name": "stdout",
     "output_type": "stream",
     "text": [
      "0\n"
     ]
    }
   ],
   "source": [
    "#Merge values from detailcm and detailCM columns into detailcm column and drop detailCM column\n",
    "saf_analysis_data['detailcm'] = saf_analysis_data['detailcm'].fillna(saf_analysis_data['detailCM'])\n",
    "saf_analysis_data.drop('detailCM', axis=1, inplace=True)\n",
    "\n",
    "#Convert detailcm column from object to integer\n",
    "saf_analysis_data['detailcm'] = pd.to_numeric(saf_analysis_data['detailcm'], errors='coerce').astype('Int64')\n",
    "\n",
    "#Verify no more blank values in city column\n",
    "missing_detailcm = saf_analysis_data['detailcm'] == ' '\n",
    "missing_detailcm_true = missing_detailcm.sum()\n",
    "print(missing_detailcm_true)"
   ]
  },
  {
   "cell_type": "markdown",
   "id": "9f9793a4",
   "metadata": {},
   "source": [
    "### Issue 9: There are incorrect values in the crimsusp field (e.g., “EAST 162 STREET” and “220.03”)  \n",
    "    \n",
    "•\tError type: Semantic (integrity constraint violation – values in the age column must be strings that represent / describe suspected crimes)\n",
    "    \n",
    "•\tRemediation: The detailcm / detailCM fields contain numerical codes corresponding to suspected crimes.  Our analysis can rely on that data instead – drop the crimesup field"
   ]
  },
  {
   "cell_type": "code",
   "execution_count": 30,
   "id": "946304c4",
   "metadata": {},
   "outputs": [],
   "source": [
    "#Drop crimsusp column\n",
    "saf_analysis_data.drop('crimsusp', axis=1, inplace=True)"
   ]
  },
  {
   "cell_type": "markdown",
   "id": "aab389ef",
   "metadata": {},
   "source": [
    "### Issue 10: There are (580) values in the weight field that equal 999 and 8 that equal 0\n",
    "    \n",
    "•\tError type: Semantic (integrity constraint violation – unknown values should be set to common placeholder value)\n",
    "    \n",
    "•\tRemediation: Replace values with a designated placeholder value (integer field – replace with NaN)"
   ]
  },
  {
   "cell_type": "code",
   "execution_count": 31,
   "id": "5a41bc17",
   "metadata": {},
   "outputs": [],
   "source": [
    "#Replace weight field 999 values with NULL\n",
    "saf_analysis_data['weight'] = saf_analysis_data['weight'].replace(999, np.nan)"
   ]
  },
  {
   "cell_type": "code",
   "execution_count": 32,
   "id": "e13049c7",
   "metadata": {},
   "outputs": [
    {
     "data": {
      "image/png": "[encoded data removed]",
      "text/plain": [
       "<Figure size 640x480 with 1 Axes>"
      ]
     },
     "metadata": {},
     "output_type": "display_data"
    }
   ],
   "source": [
    "#Take a look at the distribution of weight values\n",
    "weight_no_nan = saf_analysis_data['weight'].dropna()\n",
    "plt.boxplot(weight_no_nan);"
   ]
  },
  {
   "cell_type": "code",
   "execution_count": 33,
   "id": "c827a4dc",
   "metadata": {},
   "outputs": [
    {
     "data": {
      "text/plain": [
       "0.28503868652558156"
      ]
     },
     "execution_count": 33,
     "metadata": {},
     "output_type": "execute_result"
    }
   ],
   "source": [
    "#Check percentage proportion weight under 100 - ~0.3 percent - reasonable number, so consider valid\n",
    "under100_proportion = (saf_analysis_data['weight'] < 100).sum() / (saf_analysis_data['weight'] > 0).sum()\n",
    "under100_proportion * 100"
   ]
  },
  {
   "cell_type": "code",
   "execution_count": 34,
   "id": "6b64e555",
   "metadata": {},
   "outputs": [
    {
     "data": {
      "text/plain": [
       "1.1693021283898026"
      ]
     },
     "execution_count": 34,
     "metadata": {},
     "output_type": "execute_result"
    }
   ],
   "source": [
    "#Check percentage proportion weight over 250 - ~1.2 percent - reasonable number, so consider valid\n",
    "over250_proportion = (saf_analysis_data['weight'] > 250).sum() / (saf_analysis_data['weight'] > 0).sum()\n",
    "over250_proportion * 100"
   ]
  },
  {
   "cell_type": "code",
   "execution_count": 35,
   "id": "ca086742",
   "metadata": {},
   "outputs": [
    {
     "data": {
      "text/plain": [
       "8"
      ]
     },
     "execution_count": 35,
     "metadata": {},
     "output_type": "execute_result"
    }
   ],
   "source": [
    "#Check if any weights are zero\n",
    "no_weight = (saf_analysis_data['weight'] == 0).sum()\n",
    "no_weight"
   ]
  },
  {
   "cell_type": "code",
   "execution_count": 36,
   "id": "40aee4a6",
   "metadata": {},
   "outputs": [],
   "source": [
    "#Replace weight field 0 values with NULL\n",
    "saf_analysis_data['weight'] = saf_analysis_data['weight'].replace(0, np.nan)"
   ]
  },
  {
   "cell_type": "markdown",
   "id": "b07085d9",
   "metadata": {},
   "source": [
    "### Issue 11: Both “STATEN IS” and “STATEN ISLAND” are used in the city field of the Stop-and-Frisk dataset\n",
    "    \n",
    "•\tError type: Syntactical (domain format error)\n",
    "    \n",
    "•\tRemediation: Replace “STATEN IS” values with “STATEN ISLAND”"
   ]
  },
  {
   "cell_type": "code",
   "execution_count": 37,
   "id": "6e85e031",
   "metadata": {},
   "outputs": [],
   "source": [
    "#Replace STATEN IS values in city column\n",
    "saf_analysis_data['city'] = saf_analysis_data['city'].replace('STATEN IS', 'STATEN ISLAND')"
   ]
  },
  {
   "cell_type": "code",
   "execution_count": 38,
   "id": "cb43b253",
   "metadata": {},
   "outputs": [],
   "source": [
    "#Save cleaned dataframe\n",
    "saf_analysis_data.to_csv(\"..\\\\Data_Warehouse\\\\NYPD_Stop_and_Frisk_Cleaned.csv\", index=False, encoding='utf-8')"
   ]
  },
  {
   "cell_type": "markdown",
   "id": "f6c32e15",
   "metadata": {},
   "source": [
    "# SECTION 2: Crime data"
   ]
  },
  {
   "cell_type": "markdown",
   "id": "051d92b0",
   "metadata": {},
   "source": [
    "Import data into pandas dataframe"
   ]
  },
  {
   "cell_type": "code",
   "execution_count": 39,
   "id": "333749f0",
   "metadata": {},
   "outputs": [],
   "source": [
    "#Load Crime data file\n",
    "crime_data = pd.read_csv('C:\\\\Users\\\\mekna\\\\OneDrive\\\\Documents\\\\PSU\\\\DAAN_822\\\\Project\\\\Data_Warehouse\\\\NYPD_Crime_Data.csv')"
   ]
  },
  {
   "cell_type": "markdown",
   "id": "16899231",
   "metadata": {},
   "source": [
    "First check if any rows in the saf_data dataset are not unique (look for duplicates)"
   ]
  },
  {
   "cell_type": "code",
   "execution_count": 40,
   "id": "fc9c6252",
   "metadata": {},
   "outputs": [
    {
     "name": "stdout",
     "output_type": "stream",
     "text": [
      "Duplicates present\n"
     ]
    }
   ],
   "source": [
    "# Code ref: Gemini AI\n",
    "# Check for duplicate rows\n",
    "unique_rows = not crime_data.duplicated().any()\n",
    "\n",
    "if unique_rows:\n",
    "    print(\"No duplicates present\")\n",
    "else:\n",
    "    print(\"Duplicates present\")"
   ]
  },
  {
   "cell_type": "markdown",
   "id": "bdb1b2f0",
   "metadata": {},
   "source": [
    "### Issue 1: There are duplicate records (rows) within the dataset\n",
    "    \n",
    "•\tError type: Syntactical (duplicates)\n",
    "    \n",
    "•\tRemediation: Two options – reprocess crime dataset to exclude duplicates OR remove "
   ]
  },
  {
   "cell_type": "code",
   "execution_count": 41,
   "id": "6787215b",
   "metadata": {},
   "outputs": [],
   "source": [
    "#Remove duplicate rows from crime_data dataframe\n",
    "crime_data = crime_data.drop_duplicates()"
   ]
  },
  {
   "cell_type": "code",
   "execution_count": 42,
   "id": "b5296f1b",
   "metadata": {},
   "outputs": [
    {
     "name": "stdout",
     "output_type": "stream",
     "text": [
      "No duplicates present\n"
     ]
    }
   ],
   "source": [
    "# Code ref: Gemini AI\n",
    "# Check again for duplicate rows\n",
    "unique_rows = not crime_data.duplicated().any()\n",
    "\n",
    "if unique_rows:\n",
    "    print(\"No duplicates present\")\n",
    "else:\n",
    "    print(\"Duplicates present\")"
   ]
  },
  {
   "cell_type": "markdown",
   "id": "0dace1aa",
   "metadata": {},
   "source": [
    "### Issue 2: There are ambiguous values in the Status field  \n",
    "    \n",
    "•\tError type: Semantic (integrity constraint violation – values in the Status field should be “Victim,” “Suspect,” or “Arrestee”)\n",
    "    \n",
    "•\tRemediation: Update values to “Victim,” “Suspect,” or “Arrestee” where relevant"
   ]
  },
  {
   "cell_type": "code",
   "execution_count": 43,
   "id": "6101cb46",
   "metadata": {},
   "outputs": [
    {
     "data": {
      "text/html": [
       "<div>\n",
       "<style scoped>\n",
       "    .dataframe tbody tr th:only-of-type {\n",
       "        vertical-align: middle;\n",
       "    }\n",
       "\n",
       "    .dataframe tbody tr th {\n",
       "        vertical-align: top;\n",
       "    }\n",
       "\n",
       "    .dataframe thead th {\n",
       "        text-align: right;\n",
       "    }\n",
       "</style>\n",
       "<table border=\"1\" class=\"dataframe\">\n",
       "  <thead>\n",
       "    <tr style=\"text-align: right;\">\n",
       "      <th></th>\n",
       "      <th>Year</th>\n",
       "      <th>Reason</th>\n",
       "      <th>Status</th>\n",
       "      <th>Category</th>\n",
       "      <th>Value</th>\n",
       "    </tr>\n",
       "  </thead>\n",
       "  <tbody>\n",
       "    <tr>\n",
       "      <th>0</th>\n",
       "      <td>2012</td>\n",
       "      <td>Misdemeanor Criminal Mischief</td>\n",
       "      <td>Victim</td>\n",
       "      <td>AMER IND</td>\n",
       "      <td>0.007</td>\n",
       "    </tr>\n",
       "    <tr>\n",
       "      <th>1</th>\n",
       "      <td>2012</td>\n",
       "      <td>Misdemeanor Criminal Mischief</td>\n",
       "      <td>Victim</td>\n",
       "      <td>ASIAN/PAC.ISL</td>\n",
       "      <td>0.084</td>\n",
       "    </tr>\n",
       "    <tr>\n",
       "      <th>2</th>\n",
       "      <td>2012</td>\n",
       "      <td>Misdemeanor Criminal Mischief</td>\n",
       "      <td>Victim</td>\n",
       "      <td>BLACK</td>\n",
       "      <td>0.365</td>\n",
       "    </tr>\n",
       "    <tr>\n",
       "      <th>3</th>\n",
       "      <td>2012</td>\n",
       "      <td>Misdemeanor Criminal Mischief</td>\n",
       "      <td>Victim</td>\n",
       "      <td>WHITE</td>\n",
       "      <td>0.289</td>\n",
       "    </tr>\n",
       "    <tr>\n",
       "      <th>4</th>\n",
       "      <td>2012</td>\n",
       "      <td>Misdemeanor Criminal Mischief</td>\n",
       "      <td>Victim</td>\n",
       "      <td>HISPANIC</td>\n",
       "      <td>0.254</td>\n",
       "    </tr>\n",
       "    <tr>\n",
       "      <th>...</th>\n",
       "      <td>...</td>\n",
       "      <td>...</td>\n",
       "      <td>...</td>\n",
       "      <td>...</td>\n",
       "      <td>...</td>\n",
       "    </tr>\n",
       "    <tr>\n",
       "      <th>1435</th>\n",
       "      <td>2015</td>\n",
       "      <td>Race/Ethnicity of Felony and Misdemeanor Juven...</td>\n",
       "      <td>Arrestees</td>\n",
       "      <td>WHITE</td>\n",
       "      <td>0.051</td>\n",
       "    </tr>\n",
       "    <tr>\n",
       "      <th>1436</th>\n",
       "      <td>2015</td>\n",
       "      <td>Race/Ethnicity of Felony and Misdemeanor Juven...</td>\n",
       "      <td>Arrestees</td>\n",
       "      <td>HISPANIC</td>\n",
       "      <td>0.306</td>\n",
       "    </tr>\n",
       "    <tr>\n",
       "      <th>1437</th>\n",
       "      <td>2015</td>\n",
       "      <td>Race/Ethnicity of Felony and Misdemeanor Juven...</td>\n",
       "      <td>Arrestees</td>\n",
       "      <td>Total Victims/Suspects/Arrests</td>\n",
       "      <td>5704.000</td>\n",
       "    </tr>\n",
       "    <tr>\n",
       "      <th>1438</th>\n",
       "      <td>2015</td>\n",
       "      <td>Race/Ethnicity of Felony and Misdemeanor Juven...</td>\n",
       "      <td>Arrestees</td>\n",
       "      <td>Known Race/Ethnicity</td>\n",
       "      <td>5681.000</td>\n",
       "    </tr>\n",
       "    <tr>\n",
       "      <th>1439</th>\n",
       "      <td>2015</td>\n",
       "      <td>Race/Ethnicity of Felony and Misdemeanor Juven...</td>\n",
       "      <td>Arrestees</td>\n",
       "      <td>% with Race/Ethnicity Known</td>\n",
       "      <td>0.996</td>\n",
       "    </tr>\n",
       "  </tbody>\n",
       "</table>\n",
       "<p>1344 rows × 5 columns</p>\n",
       "</div>"
      ],
      "text/plain": [
       "      Year                                             Reason     Status  \\\n",
       "0     2012                      Misdemeanor Criminal Mischief     Victim   \n",
       "1     2012                      Misdemeanor Criminal Mischief     Victim   \n",
       "2     2012                      Misdemeanor Criminal Mischief     Victim   \n",
       "3     2012                      Misdemeanor Criminal Mischief     Victim   \n",
       "4     2012                      Misdemeanor Criminal Mischief     Victim   \n",
       "...    ...                                                ...        ...   \n",
       "1435  2015  Race/Ethnicity of Felony and Misdemeanor Juven...  Arrestees   \n",
       "1436  2015  Race/Ethnicity of Felony and Misdemeanor Juven...  Arrestees   \n",
       "1437  2015  Race/Ethnicity of Felony and Misdemeanor Juven...  Arrestees   \n",
       "1438  2015  Race/Ethnicity of Felony and Misdemeanor Juven...  Arrestees   \n",
       "1439  2015  Race/Ethnicity of Felony and Misdemeanor Juven...  Arrestees   \n",
       "\n",
       "                            Category     Value  \n",
       "0                           AMER IND     0.007  \n",
       "1                      ASIAN/PAC.ISL     0.084  \n",
       "2                              BLACK     0.365  \n",
       "3                              WHITE     0.289  \n",
       "4                           HISPANIC     0.254  \n",
       "...                              ...       ...  \n",
       "1435                           WHITE     0.051  \n",
       "1436                        HISPANIC     0.306  \n",
       "1437  Total Victims/Suspects/Arrests  5704.000  \n",
       "1438            Known Race/Ethnicity  5681.000  \n",
       "1439     % with Race/Ethnicity Known     0.996  \n",
       "\n",
       "[1344 rows x 5 columns]"
      ]
     },
     "execution_count": 43,
     "metadata": {},
     "output_type": "execute_result"
    }
   ],
   "source": [
    "#View data\n",
    "crime_data"
   ]
  },
  {
   "cell_type": "code",
   "execution_count": 44,
   "id": "d54d1001",
   "metadata": {
    "scrolled": true
   },
   "outputs": [
    {
     "data": {
      "text/plain": [
       "array(['Victim', 'Suspect', 'Arrestee', 'Felony', 'Misdemeanor',\n",
       "       'Suspects', 'Property (Fel.)', 'Property (Misd.)', 'Victims',\n",
       "       'Arrestees'], dtype=object)"
      ]
     },
     "execution_count": 44,
     "metadata": {},
     "output_type": "execute_result"
    }
   ],
   "source": [
    "#View unique values in Status column\n",
    "crime_data['Status'].unique()"
   ]
  },
  {
   "cell_type": "code",
   "execution_count": 45,
   "id": "4a1878ac",
   "metadata": {},
   "outputs": [],
   "source": [
    "#Replace Victims with Victim, Arrestees with Arrestee, Suspects with Suspect, Felony with Arrestee (Felony), Misdemeanor with\n",
    "#Arrestee (Misdemeanor), Property (Fel.) with Arrestee (Felony), and Property (Misd.) with Arrestee (Misdemeanor) in Status\n",
    "#column\n",
    "crime_data['Status'] = crime_data['Status'].replace('Victims', 'Victim')\n",
    "crime_data['Status'] = crime_data['Status'].replace('Arrestees', 'Arrestee')\n",
    "crime_data['Status'] = crime_data['Status'].replace('Suspects', 'Suspect')\n",
    "crime_data['Status'] = crime_data['Status'].replace('Felony', 'Arrestee (Felony)')\n",
    "crime_data['Status'] = crime_data['Status'].replace('Misdemeanor', 'Arrestee (Midemeanor)')\n",
    "crime_data['Status'] = crime_data['Status'].replace('Property (Fel.)', 'Arrestee (Felony)')\n",
    "crime_data['Status'] = crime_data['Status'].replace('Property (Misd.)', 'Arrestee (Midemeanor)')"
   ]
  },
  {
   "cell_type": "code",
   "execution_count": 46,
   "id": "72953244",
   "metadata": {},
   "outputs": [
    {
     "data": {
      "text/plain": [
       "array(['Victim', 'Suspect', 'Arrestee', 'Arrestee (Felony)',\n",
       "       'Arrestee (Midemeanor)'], dtype=object)"
      ]
     },
     "execution_count": 46,
     "metadata": {},
     "output_type": "execute_result"
    }
   ],
   "source": [
    "#View unique values in Status column\n",
    "crime_data['Status'].unique()"
   ]
  },
  {
   "cell_type": "code",
   "execution_count": 47,
   "id": "df59b593",
   "metadata": {},
   "outputs": [],
   "source": [
    "#Save cleaned dataframe\n",
    "crime_data.to_csv(\"..\\\\Data_Warehouse\\\\NYPD_Crime_Data_Cleaned.csv\", index=False, encoding='utf-8')"
   ]
  },
  {
   "cell_type": "markdown",
   "id": "af52d690",
   "metadata": {},
   "source": [
    "# SECTION 3: Population data"
   ]
  },
  {
   "cell_type": "markdown",
   "id": "113c8416",
   "metadata": {},
   "source": [
    "Import data into pandas dataframe"
   ]
  },
  {
   "cell_type": "code",
   "execution_count": 48,
   "id": "a5176ab6",
   "metadata": {},
   "outputs": [],
   "source": [
    "#Load Population data file\n",
    "census_data = pd.read_csv('C:\\\\Users\\\\mekna\\\\OneDrive\\\\Documents\\\\PSU\\\\DAAN_822\\\\Project\\\\Data_Warehouse\\\\NYC_Census_Data.csv')"
   ]
  },
  {
   "cell_type": "markdown",
   "id": "e1fa1183",
   "metadata": {},
   "source": [
    "### Issue 1: There are (10) missing values in all “NATIVE,” “PAC ISLANDER,” and “OTHER” fields of the Census dataset (years 2011 through 2020)\n",
    "    \n",
    "•\tError type: Coverage (missing values – categories are not present in 2020 NYC census data, so could not be interpolated)\n",
    "    \n",
    "•\tRemediation: Two options – remove fields as totals are included in the “TOTAL OTHERS” fields for each NYC borough OR use the “TOTAL OTHERS” fields to extrapolate values into categories based on 2010 proportions"
   ]
  },
  {
   "cell_type": "code",
   "execution_count": 49,
   "id": "bb8f3d6d",
   "metadata": {},
   "outputs": [],
   "source": [
    "#Extrapolating would necessitate making assumptions about proportions that are not necessarily accurate\n",
    "#Drop NATIVE, PAC ISLANDER, and OTHER columns\n",
    "#Code ref: https://stackoverflow.com/questions/19071199/drop-columns-whose-name-contains-a-specific-string-from-pandas-dataframe\n",
    "census_data.drop(list(census_data.filter(regex = 'NATIVE')), axis = 1, inplace = True)\n",
    "census_data.drop(list(census_data.filter(regex = 'PAC ISLANDER')), axis = 1, inplace = True)\n",
    "\n",
    "census_data.drop('BRONX OTHER', axis=1, inplace=True)\n",
    "census_data.drop('BROOKLYN OTHER', axis=1, inplace=True)\n",
    "census_data.drop('MANHATTAN OTHER', axis=1, inplace=True)\n",
    "census_data.drop('QUEENS OTHER', axis=1, inplace=True)\n",
    "census_data.drop('STATEN ISLAND OTHER', axis=1, inplace=True)"
   ]
  },
  {
   "cell_type": "code",
   "execution_count": 50,
   "id": "b3e92f66",
   "metadata": {},
   "outputs": [
    {
     "data": {
      "text/html": [
       "<div>\n",
       "<style scoped>\n",
       "    .dataframe tbody tr th:only-of-type {\n",
       "        vertical-align: middle;\n",
       "    }\n",
       "\n",
       "    .dataframe tbody tr th {\n",
       "        vertical-align: top;\n",
       "    }\n",
       "\n",
       "    .dataframe thead th {\n",
       "        text-align: right;\n",
       "    }\n",
       "</style>\n",
       "<table border=\"1\" class=\"dataframe\">\n",
       "  <thead>\n",
       "    <tr style=\"text-align: right;\">\n",
       "      <th></th>\n",
       "      <th>YEAR</th>\n",
       "      <th>BRONX TOTAL</th>\n",
       "      <th>BRONX WHITE</th>\n",
       "      <th>BRONX BLACK</th>\n",
       "      <th>BRONX ASIAN</th>\n",
       "      <th>BRONX TOTAL OTHER</th>\n",
       "      <th>BRONX MULTI</th>\n",
       "      <th>BRONX HISPANIC</th>\n",
       "      <th>BROOKLYN TOTAL</th>\n",
       "      <th>BROOKLYN WHITE</th>\n",
       "      <th>...</th>\n",
       "      <th>QUEENS TOTAL OTHER</th>\n",
       "      <th>QUEENS MULTI</th>\n",
       "      <th>QUEENS HISPANIC</th>\n",
       "      <th>STATEN ISLAND TOTAL</th>\n",
       "      <th>STATEN ISLAND WHITE</th>\n",
       "      <th>STATEN ISLAND BLACK</th>\n",
       "      <th>STATEN ISLAND ASIAN</th>\n",
       "      <th>STATEN ISLAND TOTAL OTHER</th>\n",
       "      <th>STATEN ISLAND MULTI</th>\n",
       "      <th>STATEN ISLAND HISPANIC</th>\n",
       "    </tr>\n",
       "  </thead>\n",
       "  <tbody>\n",
       "    <tr>\n",
       "      <th>0</th>\n",
       "      <td>2010</td>\n",
       "      <td>1385108.0</td>\n",
       "      <td>151209.0</td>\n",
       "      <td>416695.0</td>\n",
       "      <td>47335.0</td>\n",
       "      <td>12494.0</td>\n",
       "      <td>15962.0</td>\n",
       "      <td>741413.0</td>\n",
       "      <td>2504700.0</td>\n",
       "      <td>893306.0</td>\n",
       "      <td>...</td>\n",
       "      <td>39923.0</td>\n",
       "      <td>56107.0</td>\n",
       "      <td>613750.0</td>\n",
       "      <td>468730.0</td>\n",
       "      <td>300169.0</td>\n",
       "      <td>44313.0</td>\n",
       "      <td>34697.0</td>\n",
       "      <td>1860.0</td>\n",
       "      <td>6640.0</td>\n",
       "      <td>81051.0</td>\n",
       "    </tr>\n",
       "    <tr>\n",
       "      <th>1</th>\n",
       "      <td>2011</td>\n",
       "      <td>1393862.6</td>\n",
       "      <td>149167.7</td>\n",
       "      <td>416964.8</td>\n",
       "      <td>49378.1</td>\n",
       "      <td>13231.2</td>\n",
       "      <td>17202.8</td>\n",
       "      <td>747918.0</td>\n",
       "      <td>2527837.4</td>\n",
       "      <td>900818.1</td>\n",
       "      <td>...</td>\n",
       "      <td>42548.2</td>\n",
       "      <td>58907.5</td>\n",
       "      <td>619161.1</td>\n",
       "      <td>471431.7</td>\n",
       "      <td>297950.2</td>\n",
       "      <td>44565.2</td>\n",
       "      <td>37102.6</td>\n",
       "      <td>2064.0</td>\n",
       "      <td>7107.8</td>\n",
       "      <td>82641.9</td>\n",
       "    </tr>\n",
       "    <tr>\n",
       "      <th>2</th>\n",
       "      <td>2012</td>\n",
       "      <td>1402617.2</td>\n",
       "      <td>147126.4</td>\n",
       "      <td>417234.6</td>\n",
       "      <td>51421.2</td>\n",
       "      <td>13968.4</td>\n",
       "      <td>18443.6</td>\n",
       "      <td>754423.0</td>\n",
       "      <td>2550974.8</td>\n",
       "      <td>908330.2</td>\n",
       "      <td>...</td>\n",
       "      <td>45173.4</td>\n",
       "      <td>61708.0</td>\n",
       "      <td>624572.2</td>\n",
       "      <td>474133.4</td>\n",
       "      <td>295731.4</td>\n",
       "      <td>44817.4</td>\n",
       "      <td>39508.2</td>\n",
       "      <td>2268.0</td>\n",
       "      <td>7575.6</td>\n",
       "      <td>84232.8</td>\n",
       "    </tr>\n",
       "    <tr>\n",
       "      <th>3</th>\n",
       "      <td>2013</td>\n",
       "      <td>1411371.8</td>\n",
       "      <td>145085.1</td>\n",
       "      <td>417504.4</td>\n",
       "      <td>53464.3</td>\n",
       "      <td>14705.6</td>\n",
       "      <td>19684.4</td>\n",
       "      <td>760928.0</td>\n",
       "      <td>2574112.2</td>\n",
       "      <td>915842.3</td>\n",
       "      <td>...</td>\n",
       "      <td>47798.6</td>\n",
       "      <td>64508.5</td>\n",
       "      <td>629983.3</td>\n",
       "      <td>476835.1</td>\n",
       "      <td>293512.6</td>\n",
       "      <td>45069.6</td>\n",
       "      <td>41913.8</td>\n",
       "      <td>2472.0</td>\n",
       "      <td>8043.4</td>\n",
       "      <td>85823.7</td>\n",
       "    </tr>\n",
       "    <tr>\n",
       "      <th>4</th>\n",
       "      <td>2014</td>\n",
       "      <td>1420126.4</td>\n",
       "      <td>143043.8</td>\n",
       "      <td>417774.2</td>\n",
       "      <td>55507.4</td>\n",
       "      <td>15442.8</td>\n",
       "      <td>20925.2</td>\n",
       "      <td>767433.0</td>\n",
       "      <td>2597249.6</td>\n",
       "      <td>923354.4</td>\n",
       "      <td>...</td>\n",
       "      <td>50423.8</td>\n",
       "      <td>67309.0</td>\n",
       "      <td>635394.4</td>\n",
       "      <td>479536.8</td>\n",
       "      <td>291293.8</td>\n",
       "      <td>45321.8</td>\n",
       "      <td>44319.4</td>\n",
       "      <td>2676.0</td>\n",
       "      <td>8511.2</td>\n",
       "      <td>87414.6</td>\n",
       "    </tr>\n",
       "    <tr>\n",
       "      <th>5</th>\n",
       "      <td>2015</td>\n",
       "      <td>1428881.0</td>\n",
       "      <td>141002.5</td>\n",
       "      <td>418044.0</td>\n",
       "      <td>57550.5</td>\n",
       "      <td>16180.0</td>\n",
       "      <td>22166.0</td>\n",
       "      <td>773938.0</td>\n",
       "      <td>2620387.0</td>\n",
       "      <td>930866.5</td>\n",
       "      <td>...</td>\n",
       "      <td>53049.0</td>\n",
       "      <td>70109.5</td>\n",
       "      <td>640805.5</td>\n",
       "      <td>482238.5</td>\n",
       "      <td>289075.0</td>\n",
       "      <td>45574.0</td>\n",
       "      <td>46725.0</td>\n",
       "      <td>2880.0</td>\n",
       "      <td>8979.0</td>\n",
       "      <td>89005.5</td>\n",
       "    </tr>\n",
       "    <tr>\n",
       "      <th>6</th>\n",
       "      <td>2016</td>\n",
       "      <td>1437635.6</td>\n",
       "      <td>138961.2</td>\n",
       "      <td>418313.8</td>\n",
       "      <td>59593.6</td>\n",
       "      <td>16917.2</td>\n",
       "      <td>23406.8</td>\n",
       "      <td>780443.0</td>\n",
       "      <td>2643524.4</td>\n",
       "      <td>938378.6</td>\n",
       "      <td>...</td>\n",
       "      <td>55674.2</td>\n",
       "      <td>72910.0</td>\n",
       "      <td>646216.6</td>\n",
       "      <td>484940.2</td>\n",
       "      <td>286856.2</td>\n",
       "      <td>45826.2</td>\n",
       "      <td>49130.6</td>\n",
       "      <td>3084.0</td>\n",
       "      <td>9446.8</td>\n",
       "      <td>90596.4</td>\n",
       "    </tr>\n",
       "    <tr>\n",
       "      <th>7</th>\n",
       "      <td>2017</td>\n",
       "      <td>1446390.2</td>\n",
       "      <td>136919.9</td>\n",
       "      <td>418583.6</td>\n",
       "      <td>61636.7</td>\n",
       "      <td>17654.4</td>\n",
       "      <td>24647.6</td>\n",
       "      <td>786948.0</td>\n",
       "      <td>2666661.8</td>\n",
       "      <td>945890.7</td>\n",
       "      <td>...</td>\n",
       "      <td>58299.4</td>\n",
       "      <td>75710.5</td>\n",
       "      <td>651627.7</td>\n",
       "      <td>487641.9</td>\n",
       "      <td>284637.4</td>\n",
       "      <td>46078.4</td>\n",
       "      <td>51536.2</td>\n",
       "      <td>3288.0</td>\n",
       "      <td>9914.6</td>\n",
       "      <td>92187.3</td>\n",
       "    </tr>\n",
       "    <tr>\n",
       "      <th>8</th>\n",
       "      <td>2018</td>\n",
       "      <td>1455144.8</td>\n",
       "      <td>134878.6</td>\n",
       "      <td>418853.4</td>\n",
       "      <td>63679.8</td>\n",
       "      <td>18391.6</td>\n",
       "      <td>25888.4</td>\n",
       "      <td>793453.0</td>\n",
       "      <td>2689799.2</td>\n",
       "      <td>953402.8</td>\n",
       "      <td>...</td>\n",
       "      <td>60924.6</td>\n",
       "      <td>78511.0</td>\n",
       "      <td>657038.8</td>\n",
       "      <td>490343.6</td>\n",
       "      <td>282418.6</td>\n",
       "      <td>46330.6</td>\n",
       "      <td>53941.8</td>\n",
       "      <td>3492.0</td>\n",
       "      <td>10382.4</td>\n",
       "      <td>93778.2</td>\n",
       "    </tr>\n",
       "    <tr>\n",
       "      <th>9</th>\n",
       "      <td>2019</td>\n",
       "      <td>1463899.4</td>\n",
       "      <td>132837.3</td>\n",
       "      <td>419123.2</td>\n",
       "      <td>65722.9</td>\n",
       "      <td>19128.8</td>\n",
       "      <td>27129.2</td>\n",
       "      <td>799958.0</td>\n",
       "      <td>2712936.6</td>\n",
       "      <td>960914.9</td>\n",
       "      <td>...</td>\n",
       "      <td>63549.8</td>\n",
       "      <td>81311.5</td>\n",
       "      <td>662449.9</td>\n",
       "      <td>493045.3</td>\n",
       "      <td>280199.8</td>\n",
       "      <td>46582.8</td>\n",
       "      <td>56347.4</td>\n",
       "      <td>3696.0</td>\n",
       "      <td>10850.2</td>\n",
       "      <td>95369.1</td>\n",
       "    </tr>\n",
       "    <tr>\n",
       "      <th>10</th>\n",
       "      <td>2020</td>\n",
       "      <td>1472654.0</td>\n",
       "      <td>130796.0</td>\n",
       "      <td>419393.0</td>\n",
       "      <td>67766.0</td>\n",
       "      <td>19866.0</td>\n",
       "      <td>28370.0</td>\n",
       "      <td>806463.0</td>\n",
       "      <td>2736074.0</td>\n",
       "      <td>968427.0</td>\n",
       "      <td>...</td>\n",
       "      <td>66175.0</td>\n",
       "      <td>84112.0</td>\n",
       "      <td>667861.0</td>\n",
       "      <td>495747.0</td>\n",
       "      <td>277981.0</td>\n",
       "      <td>46835.0</td>\n",
       "      <td>58753.0</td>\n",
       "      <td>3900.0</td>\n",
       "      <td>11318.0</td>\n",
       "      <td>96960.0</td>\n",
       "    </tr>\n",
       "  </tbody>\n",
       "</table>\n",
       "<p>11 rows × 36 columns</p>\n",
       "</div>"
      ],
      "text/plain": [
       "    YEAR  BRONX TOTAL  BRONX WHITE  BRONX BLACK  BRONX ASIAN  \\\n",
       "0   2010    1385108.0     151209.0     416695.0      47335.0   \n",
       "1   2011    1393862.6     149167.7     416964.8      49378.1   \n",
       "2   2012    1402617.2     147126.4     417234.6      51421.2   \n",
       "3   2013    1411371.8     145085.1     417504.4      53464.3   \n",
       "4   2014    1420126.4     143043.8     417774.2      55507.4   \n",
       "5   2015    1428881.0     141002.5     418044.0      57550.5   \n",
       "6   2016    1437635.6     138961.2     418313.8      59593.6   \n",
       "7   2017    1446390.2     136919.9     418583.6      61636.7   \n",
       "8   2018    1455144.8     134878.6     418853.4      63679.8   \n",
       "9   2019    1463899.4     132837.3     419123.2      65722.9   \n",
       "10  2020    1472654.0     130796.0     419393.0      67766.0   \n",
       "\n",
       "    BRONX TOTAL OTHER  BRONX MULTI  BRONX HISPANIC  BROOKLYN TOTAL  \\\n",
       "0             12494.0      15962.0        741413.0       2504700.0   \n",
       "1             13231.2      17202.8        747918.0       2527837.4   \n",
       "2             13968.4      18443.6        754423.0       2550974.8   \n",
       "3             14705.6      19684.4        760928.0       2574112.2   \n",
       "4             15442.8      20925.2        767433.0       2597249.6   \n",
       "5             16180.0      22166.0        773938.0       2620387.0   \n",
       "6             16917.2      23406.8        780443.0       2643524.4   \n",
       "7             17654.4      24647.6        786948.0       2666661.8   \n",
       "8             18391.6      25888.4        793453.0       2689799.2   \n",
       "9             19128.8      27129.2        799958.0       2712936.6   \n",
       "10            19866.0      28370.0        806463.0       2736074.0   \n",
       "\n",
       "    BROOKLYN WHITE  ...  QUEENS TOTAL OTHER  QUEENS MULTI  QUEENS HISPANIC  \\\n",
       "0         893306.0  ...             39923.0       56107.0         613750.0   \n",
       "1         900818.1  ...             42548.2       58907.5         619161.1   \n",
       "2         908330.2  ...             45173.4       61708.0         624572.2   \n",
       "3         915842.3  ...             47798.6       64508.5         629983.3   \n",
       "4         923354.4  ...             50423.8       67309.0         635394.4   \n",
       "5         930866.5  ...             53049.0       70109.5         640805.5   \n",
       "6         938378.6  ...             55674.2       72910.0         646216.6   \n",
       "7         945890.7  ...             58299.4       75710.5         651627.7   \n",
       "8         953402.8  ...             60924.6       78511.0         657038.8   \n",
       "9         960914.9  ...             63549.8       81311.5         662449.9   \n",
       "10        968427.0  ...             66175.0       84112.0         667861.0   \n",
       "\n",
       "    STATEN ISLAND TOTAL  STATEN ISLAND WHITE  STATEN ISLAND BLACK  \\\n",
       "0              468730.0             300169.0              44313.0   \n",
       "1              471431.7             297950.2              44565.2   \n",
       "2              474133.4             295731.4              44817.4   \n",
       "3              476835.1             293512.6              45069.6   \n",
       "4              479536.8             291293.8              45321.8   \n",
       "5              482238.5             289075.0              45574.0   \n",
       "6              484940.2             286856.2              45826.2   \n",
       "7              487641.9             284637.4              46078.4   \n",
       "8              490343.6             282418.6              46330.6   \n",
       "9              493045.3             280199.8              46582.8   \n",
       "10             495747.0             277981.0              46835.0   \n",
       "\n",
       "    STATEN ISLAND ASIAN  STATEN ISLAND TOTAL OTHER  STATEN ISLAND MULTI  \\\n",
       "0               34697.0                     1860.0               6640.0   \n",
       "1               37102.6                     2064.0               7107.8   \n",
       "2               39508.2                     2268.0               7575.6   \n",
       "3               41913.8                     2472.0               8043.4   \n",
       "4               44319.4                     2676.0               8511.2   \n",
       "5               46725.0                     2880.0               8979.0   \n",
       "6               49130.6                     3084.0               9446.8   \n",
       "7               51536.2                     3288.0               9914.6   \n",
       "8               53941.8                     3492.0              10382.4   \n",
       "9               56347.4                     3696.0              10850.2   \n",
       "10              58753.0                     3900.0              11318.0   \n",
       "\n",
       "    STATEN ISLAND HISPANIC  \n",
       "0                  81051.0  \n",
       "1                  82641.9  \n",
       "2                  84232.8  \n",
       "3                  85823.7  \n",
       "4                  87414.6  \n",
       "5                  89005.5  \n",
       "6                  90596.4  \n",
       "7                  92187.3  \n",
       "8                  93778.2  \n",
       "9                  95369.1  \n",
       "10                 96960.0  \n",
       "\n",
       "[11 rows x 36 columns]"
      ]
     },
     "execution_count": 50,
     "metadata": {},
     "output_type": "execute_result"
    }
   ],
   "source": [
    "#View dataframe\n",
    "census_data"
   ]
  },
  {
   "cell_type": "code",
   "execution_count": 51,
   "id": "410692ad",
   "metadata": {},
   "outputs": [],
   "source": [
    "#Save cleaned dataframe\n",
    "census_data.to_csv(\"..\\\\Data_Warehouse\\\\NYC_Census_Data_Cleaned.csv\", index=False, encoding='utf-8')"
   ]
  }
 ],
 "metadata": {
  "kernelspec": {
   "display_name": "Python 3 (ipykernel)",
   "language": "python",
   "name": "python3"
  },
  "language_info": {
   "codemirror_mode": {
    "name": "ipython",
    "version": 3
   },
   "file_extension": ".py",
   "mimetype": "text/x-python",
   "name": "python",
   "nbconvert_exporter": "python",
   "pygments_lexer": "ipython3",
   "version": "3.9.18"
  }
 },
 "nbformat": 4,
 "nbformat_minor": 5
}
